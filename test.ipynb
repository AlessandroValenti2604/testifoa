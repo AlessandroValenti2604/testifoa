{
 "cells": [
  {
   "cell_type": "code",
   "execution_count": 1,
   "id": "231724dc",
   "metadata": {},
   "outputs": [],
   "source": [
    "import os\n",
    "from dotenv import load_dotenv\n",
    "load_dotenv()\n",
    "API_key = os.getenv('api_key')"
   ]
  },
  {
   "cell_type": "code",
   "execution_count": 2,
   "id": "ef7393b2",
   "metadata": {},
   "outputs": [
    {
     "data": {
      "text/plain": [
       "<Response [200]>"
      ]
     },
     "execution_count": 2,
     "metadata": {},
     "output_type": "execute_result"
    }
   ],
   "source": [
    "import requests\n",
    "city_name = 'bologna'\n",
    "\n",
    "url = f'https://api.openweathermap.org/data/2.5/weather?q={city_name}&appid={API_key}'\n",
    "\n",
    "result = requests.get(url)\n",
    "result"
   ]
  },
  {
   "cell_type": "code",
   "execution_count": 3,
   "id": "3823a6c4",
   "metadata": {},
   "outputs": [
    {
     "data": {
      "text/plain": [
       "{'coord': {'lon': 11.4333, 'lat': 44.4667},\n",
       " 'weather': [{'id': 804,\n",
       "   'main': 'Clouds',\n",
       "   'description': 'overcast clouds',\n",
       "   'icon': '04d'}],\n",
       " 'base': 'stations',\n",
       " 'main': {'temp': 292.62,\n",
       "  'feels_like': 292.37,\n",
       "  'temp_min': 292.53,\n",
       "  'temp_max': 293.85,\n",
       "  'pressure': 1014,\n",
       "  'humidity': 67,\n",
       "  'sea_level': 1014,\n",
       "  'grnd_level': 999},\n",
       " 'visibility': 10000,\n",
       " 'wind': {'speed': 2.68, 'deg': 34, 'gust': 3.58},\n",
       " 'clouds': {'all': 89},\n",
       " 'dt': 1747133101,\n",
       " 'sys': {'type': 2,\n",
       "  'id': 2004497,\n",
       "  'country': 'IT',\n",
       "  'sunrise': 1747108148,\n",
       "  'sunset': 1747161133},\n",
       " 'timezone': 7200,\n",
       " 'id': 3181927,\n",
       " 'name': 'Bologna',\n",
       " 'cod': 200}"
      ]
     },
     "execution_count": 3,
     "metadata": {},
     "output_type": "execute_result"
    }
   ],
   "source": [
    "json = result.json()\n",
    "json"
   ]
  },
  {
   "cell_type": "code",
   "execution_count": 4,
   "id": "ed12b916",
   "metadata": {},
   "outputs": [
    {
     "data": {
      "text/plain": [
       "'Bologna'"
      ]
     },
     "execution_count": 4,
     "metadata": {},
     "output_type": "execute_result"
    }
   ],
   "source": [
    "json['name']"
   ]
  },
  {
   "cell_type": "code",
   "execution_count": 14,
   "id": "f67c118e",
   "metadata": {},
   "outputs": [
    {
     "data": {
      "text/plain": [
       "'overcast clouds'"
      ]
     },
     "execution_count": 14,
     "metadata": {},
     "output_type": "execute_result"
    }
   ],
   "source": [
    "json['weather'][0]['description']"
   ]
  },
  {
   "cell_type": "code",
   "execution_count": 25,
   "id": "28e8889e",
   "metadata": {},
   "outputs": [
    {
     "data": {
      "text/plain": [
       "19.470000000000027"
      ]
     },
     "execution_count": 25,
     "metadata": {},
     "output_type": "execute_result"
    }
   ],
   "source": [
    "tempreatura_effettiva = json['main']['temp']- 273.15\n",
    "tempreatura_effettiva"
   ]
  },
  {
   "cell_type": "code",
   "execution_count": 37,
   "id": "1c7b02fc",
   "metadata": {},
   "outputs": [],
   "source": [
    "meteo = json['weather'][0]['main']\n",
    "descrizione_meteo = json['weather'][0]['description']\n",
    "temperatura_percepita = json['main']['feels_like']- 273.15\n",
    "tempreatura_max = json['main']['temp_max']- 273.15\n",
    "tempreatura_min = json['main']['temp_min']- 273.15\n",
    "tempreatura_effettiva = json['main']['temp']- 273.15\n",
    "umidita = json['main']['humidity']"
   ]
  },
  {
   "cell_type": "code",
   "execution_count": null,
   "id": "315a0849",
   "metadata": {},
   "outputs": [
    {
     "data": {
      "text/plain": [
       "292.37"
      ]
     },
     "execution_count": 36,
     "metadata": {},
     "output_type": "execute_result"
    }
   ],
   "source": [
    "latitudine = json['coord']['lat']\n",
    "longitudine = json['coord']['lon']"
   ]
  },
  {
   "cell_type": "code",
   "execution_count": null,
   "id": "8c8d2507",
   "metadata": {},
   "outputs": [],
   "source": []
  }
 ],
 "metadata": {
  "kernelspec": {
   "display_name": "Python 3",
   "language": "python",
   "name": "python3"
  },
  "language_info": {
   "codemirror_mode": {
    "name": "ipython",
    "version": 3
   },
   "file_extension": ".py",
   "mimetype": "text/x-python",
   "name": "python",
   "nbconvert_exporter": "python",
   "pygments_lexer": "ipython3",
   "version": "3.11.9"
  }
 },
 "nbformat": 4,
 "nbformat_minor": 5
}
